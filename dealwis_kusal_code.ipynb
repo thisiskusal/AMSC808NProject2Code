{
 "cells": [
  {
   "cell_type": "code",
   "execution_count": 2,
   "metadata": {},
   "outputs": [],
   "source": [
    "import numpy as np\n",
    "import pandas as pd\n",
    "from numpy.linalg import norm\n",
    "import matplotlib.pyplot as plt\n",
    "from sklearn.metrics import pairwise_distances_argmin"
   ]
  },
  {
   "cell_type": "markdown",
   "metadata": {},
   "source": [
    "# Problem 1\n",
    "NOTE: I added 3 lines to the movie ratings, 2 by friends and then my own ratings"
   ]
  },
  {
   "cell_type": "code",
   "execution_count": 3,
   "metadata": {},
   "outputs": [],
   "source": [
    "def nmf_phi(A,W,H):\n",
    "    return 0.5 * norm(A-W@H,ord='fro')**2\n",
    "\n",
    "def kmeans(A,k, iters=1e4):\n",
    "    def create_W(W_flat):\n",
    "        W = np.zeros((n,k))\n",
    "        for i in range(len(W_flat)):\n",
    "            W[i,W_flat[i]] = 1\n",
    "        return W\n",
    "    \n",
    "    def label_points(A, H):\n",
    "        #return pairwise_distances_argmin(A,H)\n",
    "        return np.array([np.argmin(norm(a-H,axis=1)) for a in A])\n",
    "    \n",
    "    iters = int(iters)\n",
    "    n,d = A.shape\n",
    "    \n",
    "    H = A[np.random.permutation(n)[:k]]\n",
    "    W_flat = label_points(A, H)\n",
    "    \n",
    "    losses = np.zeros(iters+1)\n",
    "    losses[0] = nmf_phi(A,create_W(W_flat),H)\n",
    "    \n",
    "    for i in range(1, iters+1):\n",
    "        H = np.array([A[W_flat==j].mean(axis=0) for j in range(k)])\n",
    "        W_flat = label_points(A,H)\n",
    "        losses[i] = nmf_phi(A,create_W(W_flat),H)\n",
    "    return create_W(W_flat), H, losses\n",
    "        \n",
    "\n",
    "def nmf_pgd(A,k, W=None,H=None,iters = 1e4, alpha = 1e-3):\n",
    "    iters = int(iters)\n",
    "    n,d = A.shape\n",
    "    if W is None:\n",
    "        W = np.random.uniform(size=(n,k))\n",
    "    if H is None:\n",
    "        H = np.random.uniform(low=1,high=5,size=(k,d))\n",
    "    \n",
    "    losses = np.zeros(iters + 1)\n",
    "    losses[0] = nmf_phi(A,W,H)\n",
    "    \n",
    "    for i in range(1,iters+1):\n",
    "        R = A - W @ H\n",
    "        W,H = np.maximum(W + alpha * R @ H.T,0), np.maximum(H + alpha * W.T@R,0)\n",
    "        losses[i] = nmf_phi(A,W,H)\n",
    "        \n",
    "    return W, H, losses\n",
    "\n",
    "def nmf_ls(A, k, W=None, H=None, iters = 1e4):\n",
    "    iters = int(iters)\n",
    "    n,d = A.shape\n",
    "    if W is None:\n",
    "        W = np.random.uniform(size=(n,k))\n",
    "    if H is None:\n",
    "        H = np.random.uniform(low=1,high=5,size=(k,d))\n",
    "    \n",
    "    losses = np.zeros(iters + 1)\n",
    "    losses[0] = nmf_phi(A,W,H)\n",
    "    \n",
    "    # UPDATE SCHEME\n",
    "    for i in range(1,iters+1):\n",
    "        W,H = W*(A@H.T)/(W@H@H.T), H*(W.T@A)/(W.T@W@H)\n",
    "        #W = W*(A@H.T)/(W@H@H.T)\n",
    "        #H = H*(W.T@A)/(W.T@W@H)\n",
    "        losses[i] = nmf_phi(A,W,H)\n",
    "        \n",
    "    return W, H, losses\n",
    "\n",
    "def nmf_pgd_ls(A,k,W=None,H=None,iters=1e4,split=0.9,pgd_alpha=1e-3):\n",
    "    iters = int(iters)\n",
    "    n,d = A.shape\n",
    "    if W is None:\n",
    "        W = np.random.uniform(size=(n,k))\n",
    "    if H is None:\n",
    "        H = np.random.uniform(low=1,high=5,size=(k,d))\n",
    "    \n",
    "    iters_pgd = int(iters * split)\n",
    "    iters_ls = iters - iters_pgd\n",
    "    \n",
    "    W, H, losses_pgd = nmf_pgd(A,k, W=W,H=H,iters = iters_pgd, alpha = pgd_alpha)\n",
    "    W, H, losses_ls = nmf_ls(A, k, W=W, H=H, iters = iters_ls)\n",
    "    return W, H, np.concatenate((losses_pgd,losses_ls[1:]))"
   ]
  },
  {
   "cell_type": "code",
   "execution_count": 4,
   "metadata": {},
   "outputs": [],
   "source": [
    "A = pd.read_csv('dataset1/MovieRankings36.csv', delimiter=',', header=None)\n",
    "A_submatrix = A.drop(A.columns[[0,2,7,9,12,13,14,15,16,18,19]], axis=1)\n",
    "A_submatrix = A_submatrix[~np.isnan(A_submatrix).any(axis=1)].to_numpy()"
   ]
  },
  {
   "cell_type": "code",
   "execution_count": 14,
   "metadata": {},
   "outputs": [],
   "source": [
    "k = 5\n",
    "_,_,losses_km = kmeans(A_submatrix,k)\n",
    "_,_,losses_pgd = nmf_pgd(A_submatrix,k,alpha=1e-4)\n",
    "_,_,losses_ls = nmf_ls(A_submatrix,k)\n",
    "_,_,losses_pgd_ls = nmf_pgd_ls(A_submatrix,k,pgd_alpha=1e-4)"
   ]
  },
  {
   "cell_type": "markdown",
   "metadata": {},
   "source": [
    "# Problem 2"
   ]
  },
  {
   "cell_type": "code",
   "execution_count": 16,
   "metadata": {},
   "outputs": [],
   "source": [
    "def mc_lrf(A,omega,k,l, X=None, Y=None, iters=1e4):\n",
    "    iters = int(iters)\n",
    "    n,d = A.shape\n",
    "    \n",
    "    def mc_lrf_phi(X,Y):\n",
    "        return 0.5 * norm(omega*(A-X@Y.T),ord='fro')**2 + l/2*(norm(X,ord='fro')**2 + norm(Y,ord='fro')**2)\n",
    "    \n",
    "    def tikhonov_solver(X,b):\n",
    "        _,d_ts = X.shape\n",
    "        return np.linalg.solve(X.T@X + l**2 * np.eye(d_ts),X.T@b)\n",
    "    \n",
    "    if X is None:\n",
    "        X = np.random.normal(size=(n,k))\n",
    "    if Y is None:\n",
    "        Y = np.random.normal(size=(d,k))\n",
    "    \n",
    "    losses = np.zeros(iters+1)\n",
    "    losses[0] = mc_lrf_phi(X,Y)\n",
    "    \n",
    "    for i in range(1,iters+1):\n",
    "        #iterate for X\n",
    "        for i in range(n):\n",
    "            omega_i = np.array([j for j in range(d) if omega[i,j] == 1])\n",
    "            X[i] = tikhonov_solver(Y[omega_i],A[i,omega_i])\n",
    "        \n",
    "        #iterate for Y\n",
    "        for j in range(d):\n",
    "            omega_j = np.array([i for i in range(n) if omega[i,j] == 1])\n",
    "            Y[j] = tikhonov_solver(X[omega_j],A[omega_j,j])\n",
    "        \n",
    "        losses[i] = mc_lrf_phi(X,Y)\n",
    "    return X,Y,losses\n",
    "\n",
    "def mc_nnt(A,omega,l, M=None, iters=1e4):\n",
    "    def mc_nnt_phi(M):\n",
    "        return 0.5 * norm(omega * (A-M), ord='fro')**2 + norm(M,ord='nuc')\n",
    "    \n",
    "    def S_l(X):\n",
    "        U, S, Vh = np.linalg.svd(X,full_matrices=False,compute_uv=True)\n",
    "        return U @ np.diag(np.maximum(S-l,0)) @ Vh\n",
    "        \n",
    "    iters = int(iters)\n",
    "    n,d = A.shape\n",
    "    \n",
    "    if M is None:\n",
    "        M = np.random.uniform(low=1,high=5,size=(n,d))\n",
    "    \n",
    "    losses = np.zeros(iters+1)\n",
    "    losses[0] = mc_nnt_phi(M)\n",
    "    \n",
    "    for i in range(1, iters+1):\n",
    "        M = S_l(M + omega * (A-M))\n",
    "        losses[i] = mc_nnt_phi(M)\n",
    "    return M, losses"
   ]
  },
  {
   "cell_type": "code",
   "execution_count": 17,
   "metadata": {},
   "outputs": [],
   "source": [
    "A = pd.read_csv('dataset1/MovieRankings36.csv', delimiter=',', header=None)\n",
    "omega = 1.0 * A.notna().to_numpy()\n",
    "A_complete = A.fillna(0).to_numpy()"
   ]
  },
  {
   "cell_type": "code",
   "execution_count": 18,
   "metadata": {},
   "outputs": [],
   "source": [
    "k = 10\n",
    "l = 1\n",
    "\n",
    "X_lrf,Y_lrf, losses_lrf = mc_lrf(A_complete, omega, k, l)\n",
    "M_lrf = X_lrf @ Y_lrf.T\n",
    "\n",
    "M_nnt, losses_nnt = mc_nnt(A_complete, omega, l)"
   ]
  },
  {
   "cell_type": "markdown",
   "metadata": {},
   "source": [
    "# Problem 3"
   ]
  },
  {
   "cell_type": "code",
   "execution_count": 19,
   "metadata": {},
   "outputs": [],
   "source": [
    "def CUR(A, c, r, k):\n",
    "    def column_select(A,c):\n",
    "        n,d = A.shape\n",
    "        _, _, Vh = np.linalg.svd(A,full_matrices=False,compute_uv=True)\n",
    "        V_k = Vh[:k].T\n",
    "        pi = np.array([norm(v_i)**2/k for v_i in V_k])\n",
    "        \n",
    "        columns = []\n",
    "        # NOTE: didn't implement scaling\n",
    "        # - why does it matter\n",
    "        # - should it not be max instead of min\n",
    "        for j in range(d):\n",
    "            if np.random.uniform() <= min(1,c*pi[j]):\n",
    "                columns.append(j)\n",
    "        return A[:,columns]\n",
    "    \n",
    "    C = column_select(A,c)\n",
    "    R = column_select(A.T,r).T\n",
    "    U = np.linalg.pinv(C) @ A @ np.linalg.pinv(R)\n",
    "    return C, U, R"
   ]
  },
  {
   "cell_type": "code",
   "execution_count": 20,
   "metadata": {},
   "outputs": [],
   "source": [
    "M = pd.read_csv('dataset2/M.csv', delimiter=',', header=None).to_numpy()"
   ]
  },
  {
   "cell_type": "code",
   "execution_count": null,
   "metadata": {},
   "outputs": [],
   "source": [
    "k_list = np.arange(2,11)\n",
    "a_list = np.arange(1,9)\n",
    "runs = 100\n",
    "\n",
    "ratio = np.zeros((len(k_list),len(a_list)))\n",
    "trunc_svd_norm = np.zeros(len(k_list))\n",
    "\n",
    "U_M, S_M, Vh_M = np.linalg.svd(M,full_matrices=False,compute_uv=True)\n",
    "\n",
    "for i_k in range(len(k_list)):\n",
    "    k = k_list[i_k]\n",
    "    print(\"Working on k={}\".format(k))\n",
    "\n",
    "    M_k = U_M[:,:k] @ np.diag(S_M[:k]) @ Vh_M[:k,:]\n",
    "    trunc_svd_norm[i_k] = norm(M-M_k, ord='fro')\n",
    "    \n",
    "    for i_a in range(len(a_list)):\n",
    "        a = a_list[i_a]\n",
    "        print(\"\\tWorking on a={}\".format(a))\n",
    "        \n",
    "        for i_run in range(runs):\n",
    "            C, U, R = CUR(M, a*k, a*k, k)\n",
    "            ratio[i_k,i_a] += norm(M-C@U@R, ord='fro') / trunc_svd_norm[i_k]\n",
    "        ratio[i_k,i_a] /= runs"
   ]
  },
  {
   "cell_type": "markdown",
   "metadata": {},
   "source": [
    "# Problem 4"
   ]
  },
  {
   "cell_type": "code",
   "execution_count": 21,
   "metadata": {},
   "outputs": [],
   "source": [
    "M = pd.read_csv('dataset2/M.csv', delimiter=',', header=None).to_numpy()\n",
    "y = pd.read_csv('dataset2/y.csv', delimiter=',', header=None).to_numpy().flatten()"
   ]
  },
  {
   "cell_type": "code",
   "execution_count": 26,
   "metadata": {},
   "outputs": [],
   "source": [
    "# Difference in percentage appearances stratified by y\n",
    "def stratify_percent_scores(M,y):\n",
    "    indicator = M>0\n",
    "    counts_pos = indicator[y==1].mean(axis=0)\n",
    "    counts_neg = indicator[y==-1].mean(axis=0)\n",
    "    return np.abs(counts_pos-counts_neg)\n",
    "\n",
    "# Difference in leverage score stratified by y\n",
    "def stratify_leverage_scores(M,y):\n",
    "    pos = M[y==1]\n",
    "    neg = M[y==-1]\n",
    "    pos_lev_scores = leverage_scores(pos)\n",
    "    neg_lev_scores = leverage_scores(neg)\n",
    "    return np.abs(pos_lev_scores-neg_lev_scores)\n",
    "\n",
    "# Count of number of unique appearances\n",
    "def count_scores(M):\n",
    "    return (M > 0).sum(axis=0)\n",
    "\n",
    "# Leverage score\n",
    "def leverage_scores(M):\n",
    "    _, _, Vh = np.linalg.svd(M,full_matrices=False,compute_uv=True)\n",
    "    return np.array([norm(v_i)**2 for v_i in Vh.T])\n",
    "\n",
    "# Leverage score of M normalized by wordcount/article\n",
    "def normalized_scores(M):\n",
    "    sums = M.sum(axis=1)\n",
    "    percents = M/sums[:,None]\n",
    "    return leverage_scores(percents)\n",
    "\n",
    "def get_max_k_scores(scores, k):\n",
    "    return scores.argsort()[-k:][::-1]\n",
    "\n",
    "def plot_svd_projection(M,y,top_5=False):\n",
    "    X = M.copy()\n",
    "    if top_5:\n",
    "        top_5_leverage_scores = get_max_k_scores(leverage_scores(X), 5)\n",
    "        X = X[:,top_5_leverage_scores]\n",
    "    _, _, Vh = np.linalg.svd(X,full_matrices=False,compute_uv=True)\n",
    "    x_1 = X@Vh[0,:]\n",
    "    x_2 = X@Vh[1,:]\n",
    "    \n",
    "    plt.figure(figsize=(20,8))\n",
    "    plt.scatter(x_1[y==1],x_2[y==1],c='red')\n",
    "    plt.scatter(x_1[y==-1],x_2[y==-1],c='blue')\n",
    "    plt.show()"
   ]
  },
  {
   "cell_type": "code",
   "execution_count": 27,
   "metadata": {},
   "outputs": [
    {
     "data": {
      "image/png": "[encoded data removed]",
      "text/plain": [
       "<Figure size 1440x576 with 1 Axes>"
      ]
     },
     "metadata": {
      "needs_background": "light"
     },
     "output_type": "display_data"
    }
   ],
   "source": [
    "k = 10000\n",
    "a = 3 #WHAT IS THIS !?!?!??!\n",
    "\n",
    "scores = stratify_leverage_scores(M,y)\n",
    "selected_columns = get_max_k_scores(scores, k)\n",
    "\n",
    "M_subset = M[:,selected_columns]\n",
    "plot_svd_projection(M_subset,y,False)"
   ]
  },
  {
   "cell_type": "code",
   "execution_count": null,
   "metadata": {},
   "outputs": [],
   "source": []
  }
 ],
 "metadata": {
  "kernelspec": {
   "display_name": "Python 3",
   "language": "python",
   "name": "python3"
  },
  "language_info": {
   "codemirror_mode": {
    "name": "ipython",
    "version": 3
   },
   "file_extension": ".py",
   "mimetype": "text/x-python",
   "name": "python",
   "nbconvert_exporter": "python",
   "pygments_lexer": "ipython3",
   "version": "3.8.6"
  }
 },
 "nbformat": 4,
 "nbformat_minor": 2
}
